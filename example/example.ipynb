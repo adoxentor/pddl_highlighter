{
 "cells": [
  {
   "cell_type": "markdown",
   "id": "536f10d9",
   "metadata": {},
   "source": [
    "# PDDL Highlighter Example\n",
    "\n",
    "This notebook demonstrates the features of the PDDL Highlighter extension for Jupyter notebooks."
   ]
  },
  {
   "cell_type": "code",
   "execution_count": null,
   "id": "49bee217",
   "metadata": {},
   "outputs": [],
   "source": [
    "# First, let's load our extension\n",
    "from pddl_highlighter.magics import load_pddl_magic\n",
    "load_pddl_magic()"
   ]
  },
  {
   "cell_type": "markdown",
   "id": "a074d516",
   "metadata": {},
   "source": [
    "## Basic PDDL Domain Example\n",
    "\n",
    "Let's create a simple blocks world domain. Notice:\n",
    "- Syntax highlighting for keywords, variables, and operators\n",
    "- Vertical lines showing structure\n",
    "- Interactive buttons above the code"
   ]
  },
  {
   "cell_type": "code",
   "execution_count": null,
   "id": "cc5d9bf8",
   "metadata": {},
   "outputs": [],
   "source": [
    "%%PDDL blocks_domain\n",
    "(define (domain blocks)\n",
    "    (:predicates\n",
    "        (on ?x ?y)\n",
    "        (ontable ?x)\n",
    "        (clear ?x)\n",
    "        (handempty)\n",
    "        (holding ?x)\n",
    "    )\n",
    "\n",
    "    (:action pickup\n",
    "        :parameters (?x)\n",
    "        :precondition (and (clear ?x) (ontable ?x) (handempty))\n",
    "        :effect (and (not (ontable ?x))\n",
    "                     (not (clear ?x))\n",
    "                     (not (handempty))\n",
    "                     (holding ?x))\n",
    "    )\n",
    "\n",
    "    (:action putdown\n",
    "        :parameters (?x)\n",
    "        :precondition (holding ?x)\n",
    "        :effect (and (not (holding ?x))\n",
    "                     (clear ?x)\n",
    "                     (handempty)\n",
    "                     (ontable ?x))\n",
    "    )\n",
    ")"
   ]
  },
  {
   "cell_type": "markdown",
   "id": "0dbbeb2d",
   "metadata": {},
   "source": [
    "## Try the Interactive Features\n",
    "\n",
    "1. **Theme Selection**\n",
    "   - Use the dropdown menu to try different color themes\n",
    "   - Each theme provides different syntax highlighting styles\n",
    "\n",
    "2. **Format Button**\n",
    "   - Click 'Format' to automatically indent the code\n",
    "   - Helps maintain consistent style\n",
    "\n",
    "3. **Validate Button**\n",
    "   - Click 'Validate' to check your PDDL syntax\n",
    "   - Shows errors in the status message\n",
    "\n",
    "4. **Save Button**\n",
    "   - Click 'Save' to export to a .pddl file\n",
    "   - Uses the variable name as the filename"
   ]
  },
  {
   "cell_type": "markdown",
   "id": "5daeea6a",
   "metadata": {},
   "source": [
    "## Example with Validation Errors\n",
    "\n",
    "This example shows how the validator catches common errors:"
   ]
  },
  {
   "cell_type": "code",
   "execution_count": null,
   "id": "de66b167",
   "metadata": {},
   "outputs": [],
   "source": [
    "%%PDDL invalid_domain\n",
    "(define (domain blocks\n",
    "    ; Missing closing parenthesis above\n",
    "    (:predicates\n",
    "        (on ?x ?y)\n",
    "    )\n",
    "    ; Missing required :action section\n",
    ")"
   ]
  },
  {
   "cell_type": "markdown",
   "id": "411d57c7",
   "metadata": {},
   "source": [
    "Try clicking the 'Validate' button above. You should see errors about:\n",
    "- Mismatched parentheses\n",
    "- Missing required sections"
   ]
  },
  {
   "cell_type": "markdown",
   "id": "b9e0e28a",
   "metadata": {},
   "source": [
    "## Example Problem Instance\n",
    "\n",
    "Here's a complete problem instance that works with the domain above:"
   ]
  },
  {
   "cell_type": "code",
   "execution_count": null,
   "id": "2993819a",
   "metadata": {},
   "outputs": [],
   "source": [
    "%%PDDL blocks_problem\n",
    "(define (problem blocks-3)\n",
    "    (:domain blocks)\n",
    "    (:objects a b c)\n",
    "    (:init\n",
    "        (ontable a)\n",
    "        (ontable b)\n",
    "        (ontable c)\n",
    "        (clear a)\n",
    "        (clear b)\n",
    "        (clear c)\n",
    "        (handempty)\n",
    "    )\n",
    "    (:goal\n",
    "        (and (on a b) (on b c))\n",
    "    )\n",
    ")"
   ]
  },
  {
   "cell_type": "markdown",
   "id": "3dc9da9d",
   "metadata": {},
   "source": [
    "## Visual Structure Guide\n",
    "\n",
    "Notice how the vertical lines help track structure:\n",
    "- Each line starts at the opening parenthesis\n",
    "- Lines extend until the matching closing parenthesis\n",
    "- Nested structures have multiple lines\n",
    "- Lines update in real-time as you type"
   ]
  }
 ],
 "metadata": {},
 "nbformat": 4,
 "nbformat_minor": 5
}
